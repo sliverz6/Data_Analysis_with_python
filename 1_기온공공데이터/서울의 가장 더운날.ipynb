{
 "cells": [
  {
   "cell_type": "markdown",
   "metadata": {},
   "source": [
    "## 질문하기\n",
    "기상 관측 이래, 서울의 기온이 가장 높았던 날과 가장 낮았던 날은 언제였을까? 또 몇 도였을까? (기록이 누락된 날은 제외)"
   ]
  },
  {
   "cell_type": "markdown",
   "metadata": {},
   "source": [
    "## 질문에 대한 답 찾기"
   ]
  },
  {
   "cell_type": "code",
   "execution_count": 19,
   "metadata": {},
   "outputs": [
    {
     "name": "stdout",
     "output_type": "stream",
     "text": [
      "최고 기온: 2018-08-01 (39.6도)\n",
      "최저 기온: 1927-12-31 (-23.1도)\n"
     ]
    }
   ],
   "source": [
    "import csv\n",
    "\n",
    "# 최고, 최저 기온, 날짜를 담을 변수\n",
    "max_temp = -999\n",
    "min_temp = 999\n",
    "max_date = \"\"\n",
    "min_date = \"\"\n",
    "\n",
    "# csv 데이터 열기\n",
    "f = open(\"seoul.csv\")\n",
    "data = csv.reader(f)\n",
    "\n",
    "# 헤더 설정\n",
    "header = next(data)\n",
    "\n",
    "for row in data:\n",
    "    # 결측값이 있다면 통과\n",
    "    if row[-1] != \"\" and row[-2] != \"\":\n",
    "        # 부동소수점형으로 타입 변환\n",
    "        row[-1] = float(row[-1])\n",
    "        row[-2] = float(row[-2])\n",
    "        \n",
    "        # 최고, 최저 기온 갱신\n",
    "        if max_temp < row[-1]:\n",
    "            max_date = row[0]\n",
    "            max_temp = row[-1]\n",
    "        if min_temp > row[-2]:\n",
    "            min_date = row[0]\n",
    "            min_temp = row[-2]\n",
    "f.close()\n",
    "\n",
    "# 결과 출력\n",
    "print(f\"최고 기온: {max_date} ({max_temp}도)\")\n",
    "print(f\"최저 기온: {min_date} ({min_temp}도)\")"
   ]
  },
  {
   "cell_type": "code",
   "execution_count": null,
   "metadata": {},
   "outputs": [],
   "source": []
  }
 ],
 "metadata": {
  "kernelspec": {
   "display_name": "Python 3",
   "language": "python",
   "name": "python3"
  },
  "language_info": {
   "codemirror_mode": {
    "name": "ipython",
    "version": 3
   },
   "file_extension": ".py",
   "mimetype": "text/x-python",
   "name": "python",
   "nbconvert_exporter": "python",
   "pygments_lexer": "ipython3",
   "version": "3.8.3"
  }
 },
 "nbformat": 4,
 "nbformat_minor": 4
}
